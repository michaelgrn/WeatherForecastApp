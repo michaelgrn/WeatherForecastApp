{
 "cells": [
  {
   "cell_type": "code",
   "execution_count": 1,
   "id": "4a521717",
   "metadata": {},
   "outputs": [],
   "source": [
    "import csv\n",
    "\n",
    "def contains_number(string):\n",
    "    return any(char.isdigit() for char in string)\n",
    "listCities = list()\n",
    "with open('cities_20000.csv', newline='') as csvfile:\n",
    "    spamreader = csv.reader(csvfile, delimiter=',', quotechar='|')\n",
    "    for row in spamreader:\n",
    "        toPrint = \"\"\n",
    "        toPrint += row[1]+ \", \"\n",
    "        if not contains_number(row[2]):\n",
    "            toPrint += row[2] + \", \"\n",
    "        toPrint += row[3]\n",
    "        listCities.append(toPrint)"
   ]
  },
  {
   "cell_type": "code",
   "execution_count": 3,
   "id": "d1904500",
   "metadata": {},
   "outputs": [
    {
     "name": "stdout",
     "output_type": "stream",
     "text": [
      "Done\n"
     ]
    }
   ],
   "source": [
    "with open(r'cities.txt', 'w') as fp:\n",
    "    for item in listCities[1:]:\n",
    "        # write each item on a new line\n",
    "        fp.write(\"%s\\n\" % item)\n",
    "    print('Done')"
   ]
  },
  {
   "cell_type": "code",
   "execution_count": null,
   "id": "2527c2cc",
   "metadata": {},
   "outputs": [],
   "source": []
  }
 ],
 "metadata": {
  "kernelspec": {
   "display_name": "Python 3 (ipykernel)",
   "language": "python",
   "name": "python3"
  },
  "language_info": {
   "codemirror_mode": {
    "name": "ipython",
    "version": 3
   },
   "file_extension": ".py",
   "mimetype": "text/x-python",
   "name": "python",
   "nbconvert_exporter": "python",
   "pygments_lexer": "ipython3",
   "version": "3.9.12"
  }
 },
 "nbformat": 4,
 "nbformat_minor": 5
}
