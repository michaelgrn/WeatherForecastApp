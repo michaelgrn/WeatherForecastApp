{
 "cells": [
  {
   "cell_type": "markdown",
   "id": "49afe5b7",
   "metadata": {},
   "source": [
    "# ExtractCities\n",
    "\n",
    "This is a quick script designed to extract the names of cities, states(where applicable), and countries from the .csv files containing such information at https://www.weatherbit.io/api/meta . Skipped over states with numerical state values in states.csv for next iteration."
   ]
  },
  {
   "cell_type": "code",
   "execution_count": 3,
   "id": "4a521717",
   "metadata": {},
   "outputs": [],
   "source": [
    "import csv\n",
    "\n",
    "def contains_Number(string):\n",
    "    \"\"\"Check to see if string contains number. \n",
    "    \n",
    "    Parameters\n",
    "    ----------\n",
    "    string : str\n",
    "        The string to check if contains nubmer\n",
    "\n",
    "    Returns\n",
    "    -------\n",
    "    boolean\n",
    "        If a string contains a number\n",
    "    \"\"\"\n",
    "    \n",
    "    return any(char.isdigit() for char in string)\n",
    "\n",
    "\n",
    "def cities_To_List(path,return_Name):\n",
    "    \"\"\"Extracts list of cities from csv, storing them as either \n",
    "       city/state/country or city/country. If a state contains a number\n",
    "       we choose the latter options, as a number is not a state. States.csv\n",
    "       from https://www.weatherbit.io/api/meta is corrupted.\n",
    "\n",
    "    Parameters\n",
    "    ----------\n",
    "    path : str\n",
    "        The file location of the csv\n",
    "    return_Name : str\n",
    "        The file path to write the preprocessed list to\n",
    "\n",
    "    \"\"\"\n",
    "\n",
    "    list_Cities = list()\n",
    "    \n",
    "    with open(path, newline='') as csvfile:\n",
    "        spamreader = csv.reader(csvfile, delimiter=',', quotechar='|')\n",
    "        for row in spamreader:\n",
    "            to_Print = \"\"\n",
    "            to_Print += row[1]+ \", \"\n",
    "            if not contains_Number(row[2]):\n",
    "                to_Print += row[2] + \", \"\n",
    "            to_Print += row[3]\n",
    "            list_Cities.append(to_Print)\n",
    "\n",
    "    list_Cities.sort()\n",
    "\n",
    "    with open(\"../../public/data/\"+return_Name, 'w') as fp:\n",
    "        for item in list_Cities[1:]:\n",
    "            # write each item on a new line\n",
    "            fp.write(\"%s\\n\" % item)\n",
    "        print('Done')"
   ]
  },
  {
   "cell_type": "code",
   "execution_count": 4,
   "id": "d86cd82e",
   "metadata": {},
   "outputs": [
    {
     "name": "stdout",
     "output_type": "stream",
     "text": [
      "Done\n",
      "Done\n",
      "Done\n"
     ]
    }
   ],
   "source": [
    "cities_To_List(\"../data/cities_20000.csv\",\"cities15K.txt\")\n",
    "cities_To_List(\"../data/cities_full.csv\",\"cities1K.txt\")\n",
    "cities_To_List(\"../data/cities_all.csv\",\"cities.txt\")"
   ]
  },
  {
   "cell_type": "code",
   "execution_count": null,
   "id": "ead702fa",
   "metadata": {},
   "outputs": [],
   "source": []
  }
 ],
 "metadata": {
  "kernelspec": {
   "display_name": "Python 3 (ipykernel)",
   "language": "python",
   "name": "python3"
  },
  "language_info": {
   "codemirror_mode": {
    "name": "ipython",
    "version": 3
   },
   "file_extension": ".py",
   "mimetype": "text/x-python",
   "name": "python",
   "nbconvert_exporter": "python",
   "pygments_lexer": "ipython3",
   "version": "3.9.12"
  }
 },
 "nbformat": 4,
 "nbformat_minor": 5
}
